{
  "nbformat": 4,
  "nbformat_minor": 0,
  "metadata": {
    "colab": {
      "name": "Homework05.ipynb",
      "provenance": [],
      "authorship_tag": "ABX9TyMU/ZCdDsM8XmXgG0kvDDzd",
      "include_colab_link": true
    },
    "kernelspec": {
      "name": "python3",
      "display_name": "Python 3"
    },
    "language_info": {
      "name": "python"
    }
  },
  "cells": [
    {
      "cell_type": "markdown",
      "metadata": {
        "id": "view-in-github",
        "colab_type": "text"
      },
      "source": [
        "<a href=\"https://colab.research.google.com/github/dtphuong2612/Machine_Learning/blob/main/Homework05.ipynb\" target=\"_parent\"><img src=\"https://colab.research.google.com/assets/colab-badge.svg\" alt=\"Open In Colab\"/></a>"
      ]
    },
    {
      "cell_type": "markdown",
      "metadata": {
        "id": "L4V7cM7hsakq"
      },
      "source": [
        "1. Tự biến đổi lại thuật toán logistic regression, từ xây dựng công thức, likelihood, maximize likelihood, đạo làm negative log likelihood theo ma trận hệ số.\n"
      ]
    },
    {
      "cell_type": "markdown",
      "metadata": {
        "id": "WeqHOkQMsgVp"
      },
      "source": [
        "The model logistic regression is defined as:\n",
        "$$P(C_1|\\phi) = y(\\phi) = \\sigma (w^T\\phi)$$ \\\\\n",
        "$$P(C_2|\\phi) = y(\\phi) =1 -  \\sigma (w^T\\phi)$$\n",
        "\n",
        "For a data set $\\phi_n, t_n$ where $t_n \\in $ {0,1} and $\\phi_n = \\phi(x_n)$ with $n = 1,2,...,N$ , the likelihood function can be written :\n",
        "$$p(t|w) = \\prod_{n=1}^N y_n^{t_n}(1-y_n)^{1-t_n} $$\n",
        "where:\n",
        "$$ t = (t_1,t_2,..t_N)^T \\quad and \\quad y_n = p(C_1|\\phi_n)$$\n",
        "\n",
        "Loss function:\n",
        "$$ L= - log \\, p(t|w) = -\\sum_{n=1}^N[\\, t_nlog \\, y_n + (1-t_n)log(1-y_n)\\,]$$\n",
        "\n",
        "where $y_n = \\sigma (a_n)$  and  $a_n = w^T\\phi_n$\n",
        "\n",
        "Using chain rule we have: \n",
        "$$\\dfrac{\\partial L}{\\partial w_0} = \\dfrac{\\partial L}{\\partial y_n}.\\dfrac{\\partial y_n}{\\partial a_n}.\\dfrac{\\partial a_n}{\\partial w_0} $$ \\\\\n",
        "$$= - [ (\\dfrac{t_n}{y_n} - \\dfrac{1-t_n}{1-y_n}).y_n(1-y_n).1] $$ \\\\\n",
        "$$=-[t_n(1-y_n)-y_n(1-t_n)]$$ \\\\\n",
        "$$= y_n - t_n$$ \\\\\n",
        "$$\\dfrac{\\partial L}{\\partial w_1} = \\dfrac{\\partial L}{\\partial y_n}.\\dfrac{\\partial y_n}{\\partial a_n}.\\dfrac{\\partial a_n}{\\partial w_1} $$ \\\\\n",
        "$$= - [ (\\dfrac{t_n}{y_n} - \\dfrac{1-t_n}{1-y_n}).y_n(1-y_n).\\phi_1] $$ \\\\\n",
        "$$=-[t_n(1-y_n)-y_n(1-t_n)].\\phi_1$$ \\\\\n",
        "$$= (y_n - t_n)\\phi_1$$ \\\\\n",
        "$$\\Rightarrow \\dfrac{\\partial L}{\\partial w} = \\dfrac{1}{N} \\phi^T(y_n-t_n) $$\n"
      ]
    },
    {
      "cell_type": "markdown",
      "metadata": {
        "id": "qgX4ZW2B9MKU"
      },
      "source": [
        "2.Tìm hàm $f(x)$, biết $f'(x) = f(x)(1-f(x))$\n",
        "\n",
        "\n"
      ]
    },
    {
      "cell_type": "markdown",
      "metadata": {
        "id": "P6VkSoRqE1Kl"
      },
      "source": [
        "We have:\n",
        "$$f'(x) = f(x)(1-f(x))$$ \\\\\n",
        "\n",
        "$$\\Leftrightarrow \\dfrac{df(x)}{dx} = f(x)(1-f(x))$$ \\\\\n",
        "\n",
        "$$\\Leftrightarrow \\dfrac{df(x)}{f(x)(1-f(x))} = dx$$ \\\\\n",
        "\n",
        "$$\\Leftrightarrow \\int \\dfrac{df(x)}{f(x)(1-f(x))} = \\int dx$$ \\\\\n",
        "\n",
        "$$\\Leftrightarrow \\int [\\dfrac{1}{f(x)} + \\dfrac{1}{1-f(x)} ]df(x) = \\int dx $$ \\\\\n",
        "$$ \\Leftrightarrow ln|f(x)|-ln|1-f(x)| = x + C$$  \\\\\n",
        "\n",
        "$$\\Leftrightarrow ln|\\dfrac{f(x)}{1-f(x)}| = x+C$$ \\\\\n",
        "\n",
        "$$\\Leftrightarrow \\dfrac{f(x)}{1-f(x)} = e^{x+C} $$ \\\\\n",
        "\n",
        "$$ \\Leftrightarrow \\dfrac{1}{1-f(x)} = 1 + e^{x+C} $$ \\\\\n",
        "\n",
        "$$ \\Leftrightarrow 1 - f(x) = \\dfrac{1}{1+e^{x+C}}$$ \\\\\n",
        "\n",
        "$$ \\Leftrightarrow f(x) = \\dfrac{e^{x+C}}{1+e^{x+C}}  $$"
      ]
    },
    {
      "cell_type": "markdown",
      "metadata": {
        "id": "hN4V5FKEL6fk"
      },
      "source": [
        "3. Dùng thuật toán gradient descent tối ưu hàm f(x) = x^2, với giá trị khởi tạo x = 2 và thử các learning rate khác nhau (0.2, 1, 2), vẽ đồ thị hàm loss để hiện sự thay đổi hàm f(x) sau các bước update."
      ]
    },
    {
      "cell_type": "code",
      "metadata": {
        "id": "yyrKR2dtsfJq"
      },
      "source": [
        "import numpy as np\n",
        "import matplotlib.pyplot as plt"
      ],
      "execution_count": null,
      "outputs": []
    },
    {
      "cell_type": "code",
      "metadata": {
        "colab": {
          "base_uri": "https://localhost:8080/",
          "height": 950
        },
        "id": "sMdAsWYRONyi",
        "outputId": "720c365d-bdbb-40af-d6d9-e487e641a209"
      },
      "source": [
        "x = 2\n",
        "learning_rate = [0.2,1,2]\n",
        "cl = ['r','g','b']\n",
        "for  j, lr in enumerate(learning_rate):\n",
        "  y = []\n",
        "  for i in range(10):\n",
        "    x = x - lr*2*x\n",
        "    y.append(x**2)\n",
        "  print(\"Learning Rate = {}\".format(lr))\n",
        "  plt.plot(y, color = cl[j])\n",
        "  plt.tight_layout()\n",
        "  plt.xlabel('số lần')\n",
        "  plt.ylabel('f(x)')\n",
        "  plt.show()"
      ],
      "execution_count": null,
      "outputs": [
        {
          "output_type": "stream",
          "name": "stdout",
          "text": [
            "Learning Rate = 0.2\n"
          ]
        },
        {
          "output_type": "display_data",
          "data": {
            "image/png": "[encoded data removed]",
            "text/plain": [
              "<Figure size 432x288 with 1 Axes>"
            ]
          },
          "metadata": {
            "needs_background": "light"
          }
        },
        {
          "output_type": "stream",
          "name": "stdout",
          "text": [
            "Learning Rate = 1\n"
          ]
        },
        {
          "output_type": "display_data",
          "data": {
            "image/png": "[encoded data removed]",
            "text/plain": [
              "<Figure size 432x288 with 1 Axes>"
            ]
          },
          "metadata": {
            "needs_background": "light"
          }
        },
        {
          "output_type": "stream",
          "name": "stdout",
          "text": [
            "Learning Rate = 2\n"
          ]
        },
        {
          "output_type": "display_data",
          "data": {
            "image/png": "[encoded data removed]",
            "text/plain": [
              "<Figure size 432x288 with 1 Axes>"
            ]
          },
          "metadata": {
            "needs_background": "light"
          }
        }
      ]
    },
    {
      "cell_type": "markdown",
      "metadata": {
        "id": "IM_It4pgYQZj"
      },
      "source": [
        "4. Dùng thuật toán logistic regression phân loại hồ sơ cho vay hay không \\\\\n",
        "a, Xây dựng model, tìm tham số. \\\\\n",
        "b, Dự đoán với các hồ sơ sau: (lương 2, thời gian: 3), (lương: 1, thời gian: 8), (lương: 5, thời gian: 5)."
      ]
    },
    {
      "cell_type": "code",
      "metadata": {
        "id": "3Rw7jfLgQ5jt"
      },
      "source": [
        "import pandas as pd"
      ],
      "execution_count": null,
      "outputs": []
    },
    {
      "cell_type": "code",
      "metadata": {
        "id": "8tdmH130Y4At"
      },
      "source": [
        "def sigmoid(x):\n",
        "    return 1 / (1 + np.exp(-x))\n"
      ],
      "execution_count": null,
      "outputs": []
    },
    {
      "cell_type": "code",
      "metadata": {
        "id": "i9rsqItsYwl2",
        "colab": {
          "base_uri": "https://localhost:8080/"
        },
        "outputId": "74a6259f-8499-4f98-c76f-bea5b9356881"
      },
      "source": [
        "data = pd.read_csv('https://raw.githubusercontent.com/nttuan8/DL_Tutorial/master/L2/dataset.csv').values\n",
        "row , col = data.shape\n",
        "print(\"Row = {} , Col = {}\".format(row,col))"
      ],
      "execution_count": 61,
      "outputs": [
        {
          "output_type": "stream",
          "name": "stdout",
          "text": [
            "Row = 20 , Col = 3\n"
          ]
        }
      ]
    },
    {
      "cell_type": "code",
      "metadata": {
        "id": "l20Q-z7KgCWP"
      },
      "source": [
        "x = data[:, :col-1].reshape(-1, col-1)\n",
        "y = data[:, col-1].reshape(-1, 1)"
      ],
      "execution_count": 62,
      "outputs": []
    },
    {
      "cell_type": "code",
      "metadata": {
        "id": "Q4XAIpXfgw5o"
      },
      "source": [
        "x_cho_vay = x[y[:,0]==1]\n",
        "x_tu_choi = x[y[:,0]==0]"
      ],
      "execution_count": 63,
      "outputs": []
    },
    {
      "cell_type": "code",
      "metadata": {
        "colab": {
          "base_uri": "https://localhost:8080/",
          "height": 297
        },
        "id": "yXsSghi-hWsJ",
        "outputId": "3269b483-ecac-4058-b63e-352dc1a413d1"
      },
      "source": [
        "plt.scatter(x_cho_vay[:, 0], x_cho_vay[:, 1], c='red', edgecolors='none', s=30, label='cho vay')\n",
        "plt.scatter(x_tu_choi[:, 0], x_tu_choi[:, 1], c='blue', edgecolors='none', s=30, label='từ chối')\n",
        "plt.legend()\n",
        "plt.xlabel('Mức lương (triệu)')\n",
        "plt.ylabel('Kinh nghiệm (năm)')"
      ],
      "execution_count": 65,
      "outputs": [
        {
          "output_type": "execute_result",
          "data": {
            "text/plain": [
              "Text(0, 0.5, 'kinh nghiệm (năm)')"
            ]
          },
          "metadata": {},
          "execution_count": 65
        },
        {
          "output_type": "display_data",
          "data": {
            "image/png": "[encoded data removed]",
            "text/plain": [
              "<Figure size 432x288 with 1 Axes>"
            ]
          },
          "metadata": {
            "needs_background": "light"
          }
        }
      ]
    },
    {
      "cell_type": "code",
      "metadata": {
        "id": "4T5vKd8FhbmO"
      },
      "source": [
        "x = np.hstack((np.ones((row, 1)), x))\n",
        "\n",
        "w = np.array([0.,1,1]).reshape(-1,1)"
      ],
      "execution_count": 68,
      "outputs": []
    },
    {
      "cell_type": "code",
      "metadata": {
        "id": "tS1IxecbleU7"
      },
      "source": [
        "Iteration = 1000\n",
        "cost = np.zeros((Iteration,1))\n",
        "learning_rate = 0.01\n",
        "for i in range(1,Iteration): \n",
        "    y_predict = sigmoid(np.dot(x, w))\n",
        "    cost[i] = -np.sum(np.multiply(y, np.log(y_predict)) + np.multiply(1-y, np.log(1-y_predict)))\n",
        "    w = w - learning_rate * np.dot(x.T, y_predict-y)"
      ],
      "execution_count": 77,
      "outputs": []
    },
    {
      "cell_type": "code",
      "metadata": {
        "colab": {
          "base_uri": "https://localhost:8080/",
          "height": 280
        },
        "id": "ZzEZ2p4bmjA2",
        "outputId": "c9555502-f169-4481-9982-681a9dbba639"
      },
      "source": [
        "t = 0.5\n",
        "plt.scatter(x_cho_vay[:, 0], x_cho_vay[:, 1], c='red', edgecolors='none', s=30, label='cho vay')\n",
        "plt.scatter(x_tu_choi[:, 0], x_tu_choi[:, 1], c='blue', edgecolors='none', s=30, label='từ chối')\n",
        "plt.legend()\n",
        "plt.xlabel('Mức lương (triệu)')\n",
        "plt.ylabel('Kinh nghiệm (năm)')\n",
        "plt.plot((4, 10),(-(w[0]+4*w[1]+ np.log(1/t-1))/w[2], -(w[0] + 10*w[1]+ np.log(1/t-1))/w[2]), 'g')\n",
        "plt.show()"
      ],
      "execution_count": 75,
      "outputs": [
        {
          "output_type": "display_data",
          "data": {
            "image/png": "[encoded data removed]",
            "text/plain": [
              "<Figure size 432x288 with 1 Axes>"
            ]
          },
          "metadata": {
            "needs_background": "light"
          }
        }
      ]
    },
    {
      "cell_type": "code",
      "metadata": {
        "id": "auNM2hBsmnIG"
      },
      "source": [
        ""
      ],
      "execution_count": null,
      "outputs": []
    }
  ]
}